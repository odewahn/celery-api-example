{
 "cells": [
  {
   "cell_type": "markdown",
   "metadata": {},
   "source": [
    "First we need to load the data"
   ]
  },
  {
   "cell_type": "code",
   "execution_count": 43,
   "metadata": {},
   "outputs": [
    {
     "name": "stdout",
     "output_type": "stream",
     "text": [
      "--2018-03-05 11:46:45--  https://admin.sfo.safariflow.com:5555/flower/api/workers\n",
      "Resolving admin.sfo.safariflow.com (admin.sfo.safariflow.com)... 10.16.32.22\n",
      "Connecting to admin.sfo.safariflow.com (admin.sfo.safariflow.com)|10.16.32.22|:5555... connected.\n",
      "WARNING: cannot verify admin.sfo.safariflow.com's certificate, issued by ‘emailAddress=infrastructure@safaribooksonline.com,CN=Safari Books Online Intermediate CA,OU=Infrastructure,O=Safari Books Online,ST=California,C=US’:\n",
      "  Unable to locally verify the issuer's authority.\n",
      "HTTP request sent, awaiting response... 200 OK\n",
      "Length: unspecified [application/json]\n",
      "Saving to: ‘workers.4’\n",
      "\n",
      "workers.4               [     <=>            ] 536.65K   479KB/s    in 1.1s    \n",
      "\n",
      "2018-03-05 11:46:47 (479 KB/s) - ‘workers.4’ saved [2189549]\n",
      "\n"
     ]
    }
   ],
   "source": [
    "!wget --no-check-certificate  https://admin.sfo.safariflow.com:5555/flower/api/workers"
   ]
  },
  {
   "cell_type": "code",
   "execution_count": 2,
   "metadata": {},
   "outputs": [],
   "source": [
    "import json\n"
   ]
  },
  {
   "cell_type": "code",
   "execution_count": 65,
   "metadata": {},
   "outputs": [],
   "source": [
    "# reading the JSON data using json.load()\n",
    "file = 'workers.3'\n",
    "with open(file) as train_file:\n",
    "    workers = json.load(train_file)"
   ]
  },
  {
   "cell_type": "code",
   "execution_count": 68,
   "metadata": {},
   "outputs": [
    {
     "data": {
      "text/plain": [
       "[u'scheduled',\n",
       " u'stats',\n",
       " u'revoked',\n",
       " u'timestamp',\n",
       " u'registered',\n",
       " u'active_queues',\n",
       " u'conf',\n",
       " u'active',\n",
       " u'reserved']"
      ]
     },
     "execution_count": 68,
     "metadata": {},
     "output_type": "execute_result"
    }
   ],
   "source": [
    "workers[workers.keys()[0]].keys()"
   ]
  },
  {
   "cell_type": "code",
   "execution_count": 69,
   "metadata": {},
   "outputs": [
    {
     "data": {
      "text/plain": [
       "{u'broker': {u'alternates': [],\n",
       "  u'connect_timeout': 4,\n",
       "  u'failover_strategy': u'round-robin',\n",
       "  u'heartbeat': None,\n",
       "  u'hostname': u'redis-01.sfo.safariflow.com',\n",
       "  u'insist': False,\n",
       "  u'login_method': None,\n",
       "  u'port': 6380,\n",
       "  u'ssl': False,\n",
       "  u'transport': u'redis',\n",
       "  u'transport_options': {u'visibility_timeout': 2100},\n",
       "  u'uri_prefix': None,\n",
       "  u'userid': None,\n",
       "  u'virtual_host': u'4'},\n",
       " u'clock': u'5413002',\n",
       " u'pid': 16399,\n",
       " u'pool': {u'max-concurrency': 3,\n",
       "  u'max-tasks-per-child': 200,\n",
       "  u'processes': [5452, 5462, 5474],\n",
       "  u'put-guarded-by-semaphore': False,\n",
       "  u'timeouts': [1500, 1800],\n",
       "  u'writes': {u'all': u'33.33%, 33.34%, 33.33%',\n",
       "   u'avg': u'33.33%',\n",
       "   u'inqueues': {u'active': 0, u'total': 3},\n",
       "   u'raw': u'317973, 318096, 317972',\n",
       "   u'total': 954041}},\n",
       " u'prefetch_count': 3,\n",
       " u'rusage': {u'idrss': 0,\n",
       "  u'inblock': 48,\n",
       "  u'isrss': 0,\n",
       "  u'ixrss': 0,\n",
       "  u'majflt': 0,\n",
       "  u'maxrss': 207972,\n",
       "  u'minflt': 98824697,\n",
       "  u'msgrcv': 0,\n",
       "  u'msgsnd': 0,\n",
       "  u'nivcsw': 7394909,\n",
       "  u'nsignals': 0,\n",
       "  u'nswap': 0,\n",
       "  u'nvcsw': 8397314,\n",
       "  u'oublock': 8,\n",
       "  u'stime': 2633.315567,\n",
       "  u'utime': 24746.343273},\n",
       " u'total': {u'customeradmin.tasks.add_users_to_team_account': 63,\n",
       "  u'customeradmin.tasks.spawn_update_cached_user_activity_tasks_for_large_accounts': 1,\n",
       "  u'heron.exacttarget.send_anon_user_register_email': 27,\n",
       "  u'heron.exacttarget.send_b2b_payment_invoice_email': 1,\n",
       "  u'heron.tasks.async_send_mail': 2,\n",
       "  u'heron.tasks.create_heron_progress_from_coot_usage': 945962,\n",
       "  u'heron.tasks.send_triggered_email': 102,\n",
       "  u'heron.tasks.sync_with_exacttarget': 615,\n",
       "  u'heron.tasks.synchronize_exacttarget_subscriber': 294,\n",
       "  u'salesforce.tasks.create_salesforce_user': 1107,\n",
       "  u'salesforce.tasks.create_self_service_account': 1,\n",
       "  u'salesforce.tasks.update_or_create_salesforce_contact': 41,\n",
       "  u'salesforce.tasks.update_user': 1,\n",
       "  u'subscribe.tasks.check_subscription': 2561,\n",
       "  u'subscribe.tasks.refresh_account_status': 15,\n",
       "  u'subscribe.tasks.update_zuora_crm_id': 12}}"
      ]
     },
     "execution_count": 69,
     "metadata": {},
     "output_type": "execute_result"
    }
   ],
   "source": [
    "workers[workers.keys()[0]][\"stats\"]"
   ]
  },
  {
   "cell_type": "code",
   "execution_count": 58,
   "metadata": {},
   "outputs": [],
   "source": [
    "from collections import defaultdict\n",
    "\n",
    "summary = defaultdict(int)\n",
    "for worker in workers.keys():\n",
    "   if \"stats\" in workers[worker].keys():\n",
    "    for task in workers[worker][\"stats\"]['total'].keys():\n",
    "        summary[task] += workers[worker][\"stats\"]['total'][task]"
   ]
  },
  {
   "cell_type": "code",
   "execution_count": 59,
   "metadata": {},
   "outputs": [],
   "source": [
    "import pandas as pd"
   ]
  },
  {
   "cell_type": "code",
   "execution_count": 60,
   "metadata": {},
   "outputs": [],
   "source": [
    "df = pd.DataFrame(sorted(summary.iteritems(), key=lambda (k,v): v, reverse=True), columns=[\"Job\", \"Complted tasks\"])"
   ]
  },
  {
   "cell_type": "code",
   "execution_count": 61,
   "metadata": {},
   "outputs": [
    {
     "data": {
      "text/html": [
       "<div>\n",
       "<table border=\"1\" class=\"dataframe\">\n",
       "  <thead>\n",
       "    <tr style=\"text-align: right;\">\n",
       "      <th></th>\n",
       "      <th>Job</th>\n",
       "      <th>Complted tasks</th>\n",
       "    </tr>\n",
       "  </thead>\n",
       "  <tbody>\n",
       "    <tr>\n",
       "      <th>0</th>\n",
       "      <td>update_user_activity_metric</td>\n",
       "      <td>41587</td>\n",
       "    </tr>\n",
       "    <tr>\n",
       "      <th>1</th>\n",
       "      <td>cacheback.tasks.refresh_cache</td>\n",
       "      <td>20047</td>\n",
       "    </tr>\n",
       "    <tr>\n",
       "      <th>2</th>\n",
       "      <td>heron.tasks.create_heron_progress_from_coot_usage</td>\n",
       "      <td>9406</td>\n",
       "    </tr>\n",
       "    <tr>\n",
       "      <th>3</th>\n",
       "      <td>live_training.tasks.process_refreshed_course_d...</td>\n",
       "      <td>5337</td>\n",
       "    </tr>\n",
       "    <tr>\n",
       "      <th>4</th>\n",
       "      <td>feather.messaging.rabbit_send_message</td>\n",
       "      <td>3762</td>\n",
       "    </tr>\n",
       "    <tr>\n",
       "      <th>5</th>\n",
       "      <td>nest.reader_api.tasks.SaveUsageEvents</td>\n",
       "      <td>2945</td>\n",
       "    </tr>\n",
       "    <tr>\n",
       "      <th>6</th>\n",
       "      <td>feather.messaging.rabbit_refresh_and_send_mode...</td>\n",
       "      <td>1315</td>\n",
       "    </tr>\n",
       "    <tr>\n",
       "      <th>7</th>\n",
       "      <td>live_training.tasks.sync_individual_course_dat...</td>\n",
       "      <td>293</td>\n",
       "    </tr>\n",
       "    <tr>\n",
       "      <th>8</th>\n",
       "      <td>heron.tasks.sync_with_exacttarget</td>\n",
       "      <td>157</td>\n",
       "    </tr>\n",
       "    <tr>\n",
       "      <th>9</th>\n",
       "      <td>salesforce.tasks.create_salesforce_user</td>\n",
       "      <td>147</td>\n",
       "    </tr>\n",
       "    <tr>\n",
       "      <th>10</th>\n",
       "      <td>live_training.tasks.sync_association_to_upas</td>\n",
       "      <td>101</td>\n",
       "    </tr>\n",
       "    <tr>\n",
       "      <th>11</th>\n",
       "      <td>live_training.tasks.add_to_exacttarget_registe...</td>\n",
       "      <td>68</td>\n",
       "    </tr>\n",
       "    <tr>\n",
       "      <th>12</th>\n",
       "      <td>heron.tasks.synchronize_exacttarget_subscriber</td>\n",
       "      <td>55</td>\n",
       "    </tr>\n",
       "    <tr>\n",
       "      <th>13</th>\n",
       "      <td>heron.tasks.ping_feed_hubs</td>\n",
       "      <td>40</td>\n",
       "    </tr>\n",
       "    <tr>\n",
       "      <th>14</th>\n",
       "      <td>subscribe.tasks.check_subscription</td>\n",
       "      <td>20</td>\n",
       "    </tr>\n",
       "    <tr>\n",
       "      <th>15</th>\n",
       "      <td>live_training.tasks.remove_from_exacttarget_re...</td>\n",
       "      <td>20</td>\n",
       "    </tr>\n",
       "    <tr>\n",
       "      <th>16</th>\n",
       "      <td>salesforce.tasks.update_or_create_salesforce_c...</td>\n",
       "      <td>13</td>\n",
       "    </tr>\n",
       "    <tr>\n",
       "      <th>17</th>\n",
       "      <td>heron.tasks.newrelic_custom_event</td>\n",
       "      <td>11</td>\n",
       "    </tr>\n",
       "    <tr>\n",
       "      <th>18</th>\n",
       "      <td>live_training.tasks.add_to_exacttarget_waiting...</td>\n",
       "      <td>9</td>\n",
       "    </tr>\n",
       "    <tr>\n",
       "      <th>19</th>\n",
       "      <td>heron.tasks.send_triggered_email</td>\n",
       "      <td>8</td>\n",
       "    </tr>\n",
       "    <tr>\n",
       "      <th>20</th>\n",
       "      <td>heron.exacttarget.send_welcome_with_activation...</td>\n",
       "      <td>6</td>\n",
       "    </tr>\n",
       "    <tr>\n",
       "      <th>21</th>\n",
       "      <td>salesforce.tasks.provision_b2b_subscriber</td>\n",
       "      <td>5</td>\n",
       "    </tr>\n",
       "    <tr>\n",
       "      <th>22</th>\n",
       "      <td>heron.tasks.fire_exacttarget_event</td>\n",
       "      <td>4</td>\n",
       "    </tr>\n",
       "    <tr>\n",
       "      <th>23</th>\n",
       "      <td>salesforce.tasks.process_users_for_upgraded_trial</td>\n",
       "      <td>3</td>\n",
       "    </tr>\n",
       "    <tr>\n",
       "      <th>24</th>\n",
       "      <td>customeradmin.tasks.add_users_to_team_account</td>\n",
       "      <td>3</td>\n",
       "    </tr>\n",
       "    <tr>\n",
       "      <th>25</th>\n",
       "      <td>usage_log.tasks.truncate_usage_events</td>\n",
       "      <td>2</td>\n",
       "    </tr>\n",
       "    <tr>\n",
       "      <th>26</th>\n",
       "      <td>heron.exacttarget.send_anon_user_register_email</td>\n",
       "      <td>2</td>\n",
       "    </tr>\n",
       "    <tr>\n",
       "      <th>27</th>\n",
       "      <td>conferences.tasks.add_exacttarget_conference_c...</td>\n",
       "      <td>1</td>\n",
       "    </tr>\n",
       "    <tr>\n",
       "      <th>28</th>\n",
       "      <td>live_training.tasks.create_live_training_survey</td>\n",
       "      <td>1</td>\n",
       "    </tr>\n",
       "  </tbody>\n",
       "</table>\n",
       "</div>"
      ],
      "text/plain": [
       "                                                  Job  Complted tasks\n",
       "0                         update_user_activity_metric           41587\n",
       "1                       cacheback.tasks.refresh_cache           20047\n",
       "2   heron.tasks.create_heron_progress_from_coot_usage            9406\n",
       "3   live_training.tasks.process_refreshed_course_d...            5337\n",
       "4               feather.messaging.rabbit_send_message            3762\n",
       "5               nest.reader_api.tasks.SaveUsageEvents            2945\n",
       "6   feather.messaging.rabbit_refresh_and_send_mode...            1315\n",
       "7   live_training.tasks.sync_individual_course_dat...             293\n",
       "8                   heron.tasks.sync_with_exacttarget             157\n",
       "9             salesforce.tasks.create_salesforce_user             147\n",
       "10       live_training.tasks.sync_association_to_upas             101\n",
       "11  live_training.tasks.add_to_exacttarget_registe...              68\n",
       "12     heron.tasks.synchronize_exacttarget_subscriber              55\n",
       "13                         heron.tasks.ping_feed_hubs              40\n",
       "14                 subscribe.tasks.check_subscription              20\n",
       "15  live_training.tasks.remove_from_exacttarget_re...              20\n",
       "16  salesforce.tasks.update_or_create_salesforce_c...              13\n",
       "17                  heron.tasks.newrelic_custom_event              11\n",
       "18  live_training.tasks.add_to_exacttarget_waiting...               9\n",
       "19                   heron.tasks.send_triggered_email               8\n",
       "20  heron.exacttarget.send_welcome_with_activation...               6\n",
       "21          salesforce.tasks.provision_b2b_subscriber               5\n",
       "22                 heron.tasks.fire_exacttarget_event               4\n",
       "23  salesforce.tasks.process_users_for_upgraded_trial               3\n",
       "24      customeradmin.tasks.add_users_to_team_account               3\n",
       "25              usage_log.tasks.truncate_usage_events               2\n",
       "26    heron.exacttarget.send_anon_user_register_email               2\n",
       "27  conferences.tasks.add_exacttarget_conference_c...               1\n",
       "28    live_training.tasks.create_live_training_survey               1"
      ]
     },
     "execution_count": 61,
     "metadata": {},
     "output_type": "execute_result"
    }
   ],
   "source": [
    "df"
   ]
  },
  {
   "cell_type": "code",
   "execution_count": null,
   "metadata": {},
   "outputs": [],
   "source": []
  }
 ],
 "metadata": {
  "kernelspec": {
   "display_name": "Python 2",
   "language": "python",
   "name": "python2"
  },
  "language_info": {
   "codemirror_mode": {
    "name": "ipython",
    "version": 2
   },
   "file_extension": ".py",
   "mimetype": "text/x-python",
   "name": "python",
   "nbconvert_exporter": "python",
   "pygments_lexer": "ipython2",
   "version": "2.7.11"
  }
 },
 "nbformat": 4,
 "nbformat_minor": 2
}
